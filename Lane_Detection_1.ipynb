{
  "nbformat": 4,
  "nbformat_minor": 0,
  "metadata": {
    "colab": {
      "provenance": [],
      "include_colab_link": true
    },
    "kernelspec": {
      "name": "python3",
      "display_name": "Python 3"
    }
  },
  "cells": [
    {
      "cell_type": "markdown",
      "metadata": {
        "id": "view-in-github",
        "colab_type": "text"
      },
      "source": [
        "<a href=\"https://colab.research.google.com/github/R25bitzcode/Jupyter-Notebook/blob/main/Lane_Detection_1.ipynb\" target=\"_parent\"><img src=\"https://colab.research.google.com/assets/colab-badge.svg\" alt=\"Open In Colab\"/></a>"
      ]
    },
    {
      "cell_type": "code",
      "metadata": {
        "id": "EP73rGlBIexM",
        "colab": {
          "base_uri": "https://localhost:8080/"
        },
        "outputId": "85443548-5fd5-45c7-9cdd-6720ff98cd3a"
      },
      "source": [
        "!git clone https://github.com/Dt-Pham/Advanced-Lane-Lines.git\n",
        "%cd Advanced-Lane-Lines/"
      ],
      "execution_count": 1,
      "outputs": [
        {
          "output_type": "stream",
          "name": "stdout",
          "text": [
            "Cloning into 'Advanced-Lane-Lines'...\n",
            "remote: Enumerating objects: 104, done.\u001b[K\n",
            "remote: Counting objects: 100% (4/4), done.\u001b[K\n",
            "remote: Compressing objects: 100% (4/4), done.\u001b[K\n",
            "remote: Total 104 (delta 3), reused 0 (delta 0), pack-reused 100\u001b[K\n",
            "Receiving objects: 100% (104/104), 95.77 MiB | 43.68 MiB/s, done.\n",
            "Resolving deltas: 100% (6/6), done.\n",
            "/content/Advanced-Lane-Lines\n"
          ]
        }
      ]
    },
    {
      "cell_type": "markdown",
      "source": [
        "# New Section"
      ],
      "metadata": {
        "id": "bIOtsCo7JeIQ"
      }
    },
    {
      "cell_type": "code",
      "source": [
        "!pip install docopt"
      ],
      "metadata": {
        "id": "t0KQDk7MIXGK",
        "colab": {
          "base_uri": "https://localhost:8080/"
        },
        "outputId": "a1ef4c48-8065-4675-8711-94425bb19cee"
      },
      "execution_count": null,
      "outputs": [
        {
          "output_type": "stream",
          "name": "stdout",
          "text": [
            "Collecting docopt\n",
            "  Downloading docopt-0.6.2.tar.gz (25 kB)\n",
            "  Preparing metadata (setup.py) ... \u001b[?25l\u001b[?25hdone\n",
            "Building wheels for collected packages: docopt\n",
            "  Building wheel for docopt (setup.py) ... \u001b[?25l\u001b[?25hdone\n",
            "  Created wheel for docopt: filename=docopt-0.6.2-py2.py3-none-any.whl size=13706 sha256=085033045e46e6c4a53265454a9c2982f708843de5290e9bdc9903e7ce9fb011\n",
            "  Stored in directory: /root/.cache/pip/wheels/fc/ab/d4/5da2067ac95b36618c629a5f93f809425700506f72c9732fac\n",
            "Successfully built docopt\n",
            "Installing collected packages: docopt\n",
            "Successfully installed docopt-0.6.2\n"
          ]
        }
      ]
    },
    {
      "cell_type": "code",
      "metadata": {
        "id": "twcSHvJyKY19"
      },
      "source": [
        "import numpy as np\n",
        "import matplotlib.image as mpimg\n",
        "import cv2\n",
        "from docopt import docopt\n",
        "from IPython.display import HTML\n",
        "from IPython.core.display import Video\n",
        "from moviepy.editor import VideoFileClip\n",
        "from CameraCalibration import CameraCalibration\n",
        "from Thresholding import *\n",
        "from PerspectiveTransformation import *\n",
        "from LaneLines import *\n",
        "\n",
        "class FindLaneLines:\n",
        "    def __init__(self):\n",
        "        \"\"\" Init Application\"\"\"\n",
        "        self.calibration = CameraCalibration('camera_cal', 9, 6)\n",
        "        self.thresholding = Thresholding()\n",
        "        self.transform = PerspectiveTransformation()\n",
        "        self.lanelines = LaneLines()\n",
        "\n",
        "    def forward(self, img):\n",
        "        out_img = np.copy(img)\n",
        "        img = self.calibration.undistort(img)\n",
        "        img = self.transform.forward(img)\n",
        "        img = self.thresholding.forward(img)\n",
        "        img = self.lanelines.forward(img)\n",
        "        img = self.transform.backward(img)\n",
        "\n",
        "        out_img = cv2.addWeighted(out_img, 1, img, 0.6, 0)\n",
        "        out_img = self.lanelines.plot(out_img)\n",
        "        return out_img\n",
        "\n",
        "    def process_image(self, input_path, output_path):\n",
        "        img = mpimg.imread(input_path)\n",
        "        out_img = self.forward(img)\n",
        "        mpimg.imsave(output_path, out_img)\n",
        "\n",
        "    def process_video(self, input_path, output_path):\n",
        "        clip = VideoFileClip(input_path)\n",
        "        out_clip = clip.fl_image(self.forward)\n",
        "        out_clip.write_videofile(output_path, audio=False)\n",
        "\n",
        "def main():\n",
        "    findLaneLines = FindLaneLines()\n",
        "\n",
        "##  To get output on a new image/video, upload the video and give the path or name below\n",
        "\n",
        "    findLaneLines.process_video(\"challenge_video.mp4\",\"output.mp4\")\n",
        "##  findLaneLines.process_image()\n",
        "\n",
        "if __name__ == \"__main__\":\n",
        "    main()"
      ],
      "execution_count": null,
      "outputs": []
    }
  ]
}